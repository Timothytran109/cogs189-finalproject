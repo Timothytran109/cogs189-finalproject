{
 "cells": [
  {
   "cell_type": "code",
   "execution_count": 1,
   "id": "15261158",
   "metadata": {},
   "outputs": [],
   "source": [
    "from sklearn.model_selection import train_test_split\n",
    "import pandas as pd\n",
    "import numpy as np\n",
    "import seaborn as sns\n",
    "import seaborn as sns\n",
    "from matplotlib import pyplot as plt\n",
    "from matplotlib import style\n",
    "\n",
    "from sklearn import linear_model\n",
    "from sklearn.linear_model import LogisticRegression\n",
    "from sklearn.ensemble import RandomForestClassifier\n",
    "from sklearn.tree import DecisionTreeClassifier\n",
    "from sklearn.neighbors import KNeighborsClassifier\n",
    "from sklearn.naive_bayes import GaussianNB\n",
    "\n",
    "from sklearn.model_selection import cross_val_predict\n",
    "from sklearn.metrics import confusion_matrix\n",
    "from sklearn.metrics import precision_score, recall_score"
   ]
  },
  {
   "cell_type": "code",
   "execution_count": 2,
   "id": "2faf64b7",
   "metadata": {},
   "outputs": [],
   "source": [
    "dataseta = pd.read_csv('user_a.csv', delimiter=',')\n",
    "datasetb = pd.read_csv('user_b.csv', delimiter=',')\n",
    "datasetc = pd.read_csv('user_c.csv', delimiter=',')\n",
    "datasetd = pd.read_csv('user_d.csv', delimiter=',')\n",
    "df = pd.concat([dataseta, datasetb, datasetc, datasetd], ignore_index = True)"
   ]
  },
  {
   "cell_type": "code",
   "execution_count": 3,
   "id": "5c496159",
   "metadata": {},
   "outputs": [
    {
     "data": {
      "text/html": [
       "<div>\n",
       "<style scoped>\n",
       "    .dataframe tbody tr th:only-of-type {\n",
       "        vertical-align: middle;\n",
       "    }\n",
       "\n",
       "    .dataframe tbody tr th {\n",
       "        vertical-align: top;\n",
       "    }\n",
       "\n",
       "    .dataframe thead th {\n",
       "        text-align: right;\n",
       "    }\n",
       "</style>\n",
       "<table border=\"1\" class=\"dataframe\">\n",
       "  <thead>\n",
       "    <tr style=\"text-align: right;\">\n",
       "      <th></th>\n",
       "      <th>Class</th>\n",
       "      <th>AF3 delta std</th>\n",
       "      <th>AF3 delta m</th>\n",
       "      <th>AF3 theta std</th>\n",
       "      <th>AF3 theta m</th>\n",
       "      <th>AF3 alpha std</th>\n",
       "      <th>AF3 alpha m</th>\n",
       "      <th>AF3 beta std</th>\n",
       "      <th>AF3 beta m</th>\n",
       "      <th>F7 delta std</th>\n",
       "      <th>...</th>\n",
       "      <th>F8 beta std</th>\n",
       "      <th>F8 beta m</th>\n",
       "      <th>AF4 delta std</th>\n",
       "      <th>AF4 delta m</th>\n",
       "      <th>AF4 theta std</th>\n",
       "      <th>AF4 theta m</th>\n",
       "      <th>AF4 alpha std</th>\n",
       "      <th>AF4 alpha m</th>\n",
       "      <th>AF4 beta std</th>\n",
       "      <th>AF4 beta m</th>\n",
       "    </tr>\n",
       "  </thead>\n",
       "  <tbody>\n",
       "    <tr>\n",
       "      <th>0</th>\n",
       "      <td>1.0</td>\n",
       "      <td>3569.164550</td>\n",
       "      <td>2063.892754</td>\n",
       "      <td>1.673726</td>\n",
       "      <td>4.444736</td>\n",
       "      <td>0.526209</td>\n",
       "      <td>3.002088</td>\n",
       "      <td>1.425022</td>\n",
       "      <td>3.302739</td>\n",
       "      <td>3563.803888</td>\n",
       "      <td>...</td>\n",
       "      <td>45.468326</td>\n",
       "      <td>72.508750</td>\n",
       "      <td>3701.186330</td>\n",
       "      <td>2182.676835</td>\n",
       "      <td>18.192418</td>\n",
       "      <td>41.349662</td>\n",
       "      <td>16.004756</td>\n",
       "      <td>42.046467</td>\n",
       "      <td>46.280843</td>\n",
       "      <td>73.565719</td>\n",
       "    </tr>\n",
       "    <tr>\n",
       "      <th>1</th>\n",
       "      <td>1.0</td>\n",
       "      <td>3568.423670</td>\n",
       "      <td>2063.099248</td>\n",
       "      <td>1.897790</td>\n",
       "      <td>3.728823</td>\n",
       "      <td>1.304186</td>\n",
       "      <td>1.854353</td>\n",
       "      <td>1.366575</td>\n",
       "      <td>2.546458</td>\n",
       "      <td>3563.560922</td>\n",
       "      <td>...</td>\n",
       "      <td>36.551948</td>\n",
       "      <td>66.931186</td>\n",
       "      <td>3725.210509</td>\n",
       "      <td>2180.197439</td>\n",
       "      <td>8.820788</td>\n",
       "      <td>38.012788</td>\n",
       "      <td>19.601233</td>\n",
       "      <td>29.431054</td>\n",
       "      <td>38.559351</td>\n",
       "      <td>67.470041</td>\n",
       "    </tr>\n",
       "    <tr>\n",
       "      <th>2</th>\n",
       "      <td>1.0</td>\n",
       "      <td>3568.157929</td>\n",
       "      <td>2062.445859</td>\n",
       "      <td>2.798014</td>\n",
       "      <td>2.574504</td>\n",
       "      <td>1.120537</td>\n",
       "      <td>1.958819</td>\n",
       "      <td>0.982433</td>\n",
       "      <td>2.258622</td>\n",
       "      <td>3563.279981</td>\n",
       "      <td>...</td>\n",
       "      <td>40.754308</td>\n",
       "      <td>66.816547</td>\n",
       "      <td>3724.417296</td>\n",
       "      <td>2176.823208</td>\n",
       "      <td>18.159202</td>\n",
       "      <td>23.612639</td>\n",
       "      <td>14.378291</td>\n",
       "      <td>19.555084</td>\n",
       "      <td>43.210004</td>\n",
       "      <td>67.781924</td>\n",
       "    </tr>\n",
       "    <tr>\n",
       "      <th>3</th>\n",
       "      <td>1.0</td>\n",
       "      <td>3567.710021</td>\n",
       "      <td>2062.112673</td>\n",
       "      <td>2.181775</td>\n",
       "      <td>3.610507</td>\n",
       "      <td>0.629608</td>\n",
       "      <td>2.155876</td>\n",
       "      <td>0.856275</td>\n",
       "      <td>2.233711</td>\n",
       "      <td>3562.787801</td>\n",
       "      <td>...</td>\n",
       "      <td>38.074628</td>\n",
       "      <td>63.915386</td>\n",
       "      <td>3725.822160</td>\n",
       "      <td>2177.089059</td>\n",
       "      <td>19.737616</td>\n",
       "      <td>29.484396</td>\n",
       "      <td>15.793034</td>\n",
       "      <td>25.713513</td>\n",
       "      <td>39.250246</td>\n",
       "      <td>65.031031</td>\n",
       "    </tr>\n",
       "    <tr>\n",
       "      <th>4</th>\n",
       "      <td>1.0</td>\n",
       "      <td>3565.546124</td>\n",
       "      <td>2063.128867</td>\n",
       "      <td>1.685161</td>\n",
       "      <td>3.384311</td>\n",
       "      <td>0.677526</td>\n",
       "      <td>1.795798</td>\n",
       "      <td>0.927924</td>\n",
       "      <td>1.909810</td>\n",
       "      <td>3562.655091</td>\n",
       "      <td>...</td>\n",
       "      <td>35.357384</td>\n",
       "      <td>64.534645</td>\n",
       "      <td>3723.053978</td>\n",
       "      <td>2167.798335</td>\n",
       "      <td>8.429414</td>\n",
       "      <td>26.374975</td>\n",
       "      <td>14.920736</td>\n",
       "      <td>35.675266</td>\n",
       "      <td>33.901687</td>\n",
       "      <td>66.956313</td>\n",
       "    </tr>\n",
       "  </tbody>\n",
       "</table>\n",
       "<p>5 rows × 113 columns</p>\n",
       "</div>"
      ],
      "text/plain": [
       "   Class  AF3 delta std  AF3 delta m  AF3 theta std  AF3 theta m  \\\n",
       "0    1.0    3569.164550  2063.892754       1.673726     4.444736   \n",
       "1    1.0    3568.423670  2063.099248       1.897790     3.728823   \n",
       "2    1.0    3568.157929  2062.445859       2.798014     2.574504   \n",
       "3    1.0    3567.710021  2062.112673       2.181775     3.610507   \n",
       "4    1.0    3565.546124  2063.128867       1.685161     3.384311   \n",
       "\n",
       "   AF3 alpha std  AF3 alpha m  AF3 beta std  AF3 beta m  F7 delta std  ...  \\\n",
       "0       0.526209     3.002088      1.425022    3.302739   3563.803888  ...   \n",
       "1       1.304186     1.854353      1.366575    2.546458   3563.560922  ...   \n",
       "2       1.120537     1.958819      0.982433    2.258622   3563.279981  ...   \n",
       "3       0.629608     2.155876      0.856275    2.233711   3562.787801  ...   \n",
       "4       0.677526     1.795798      0.927924    1.909810   3562.655091  ...   \n",
       "\n",
       "   F8 beta std  F8 beta m  AF4 delta std  AF4 delta m  AF4 theta std  \\\n",
       "0    45.468326  72.508750    3701.186330  2182.676835      18.192418   \n",
       "1    36.551948  66.931186    3725.210509  2180.197439       8.820788   \n",
       "2    40.754308  66.816547    3724.417296  2176.823208      18.159202   \n",
       "3    38.074628  63.915386    3725.822160  2177.089059      19.737616   \n",
       "4    35.357384  64.534645    3723.053978  2167.798335       8.429414   \n",
       "\n",
       "   AF4 theta m  AF4 alpha std  AF4 alpha m  AF4 beta std  AF4 beta m  \n",
       "0    41.349662      16.004756    42.046467     46.280843   73.565719  \n",
       "1    38.012788      19.601233    29.431054     38.559351   67.470041  \n",
       "2    23.612639      14.378291    19.555084     43.210004   67.781924  \n",
       "3    29.484396      15.793034    25.713513     39.250246   65.031031  \n",
       "4    26.374975      14.920736    35.675266     33.901687   66.956313  \n",
       "\n",
       "[5 rows x 113 columns]"
      ]
     },
     "execution_count": 3,
     "metadata": {},
     "output_type": "execute_result"
    }
   ],
   "source": [
    "df.head()"
   ]
  },
  {
   "cell_type": "code",
   "execution_count": 4,
   "id": "56a8c04e",
   "metadata": {},
   "outputs": [],
   "source": [
    "X = df.drop(['Class'], axis=1)\n",
    "y = df['Class']\n",
    "X_train, X_test, y_train, y_test = train_test_split(X, y, test_size=0.20, random_state=1)"
   ]
  },
  {
   "cell_type": "markdown",
   "id": "c3a939fb",
   "metadata": {},
   "source": [
    "# Random Forest"
   ]
  },
  {
   "cell_type": "code",
   "execution_count": 5,
   "id": "6b5e36e8",
   "metadata": {},
   "outputs": [
    {
     "data": {
      "text/plain": [
       "100.0"
      ]
     },
     "execution_count": 5,
     "metadata": {},
     "output_type": "execute_result"
    }
   ],
   "source": [
    "random_forest = RandomForestClassifier(n_estimators=100)\n",
    "random_forest.fit(X_train, y_train)\n",
    "Y_pred = random_forest.predict(X_test)\n",
    "\n",
    "random_forest.score(X_train, y_train)\n",
    "acc_random_forest = round(random_forest.score(X_train, y_train) * 100, 2)\n",
    "acc_random_forest"
   ]
  },
  {
   "cell_type": "code",
   "execution_count": 6,
   "id": "8d73a41a",
   "metadata": {},
   "outputs": [
    {
     "data": {
      "image/png": "[encoded data removed]",
      "text/plain": [
       "<Figure size 720x720 with 2 Axes>"
      ]
     },
     "metadata": {
      "needs_background": "light"
     },
     "output_type": "display_data"
    }
   ],
   "source": [
    "predictions = cross_val_predict(random_forest, X_train, y_train, cv=3)\n",
    "conf_mat = confusion_matrix(y_train, predictions)\n",
    "fig, ax = plt.subplots(figsize=(10,10))\n",
    "sns.heatmap(conf_mat, annot=True, fmt='d',\n",
    "            xticklabels=['Neutral', 'Left', 'Right'],yticklabels=['Neutral', 'Left', 'Right'])\n",
    "plt.ylabel('Actual')\n",
    "plt.xlabel('Predicted')\n",
    "plt.show()"
   ]
  },
  {
   "cell_type": "code",
   "execution_count": 7,
   "id": "f30bdfb5",
   "metadata": {},
   "outputs": [
    {
     "name": "stdout",
     "output_type": "stream",
     "text": [
      "Precision: 0.7808159722222222\n",
      "Recall: 0.7808159722222222\n"
     ]
    }
   ],
   "source": [
    "print(\"Precision:\", precision_score(y_train, predictions, average='micro'))\n",
    "print(\"Recall:\",recall_score(y_train, predictions, average='micro'))"
   ]
  },
  {
   "cell_type": "markdown",
   "id": "2135f463",
   "metadata": {},
   "source": [
    "# Logistic Regression"
   ]
  },
  {
   "cell_type": "code",
   "execution_count": 8,
   "id": "408e79d3",
   "metadata": {},
   "outputs": [
    {
     "name": "stderr",
     "output_type": "stream",
     "text": [
      "/opt/conda/lib/python3.9/site-packages/sklearn/linear_model/_logistic.py:763: ConvergenceWarning: lbfgs failed to converge (status=1):\n",
      "STOP: TOTAL NO. of ITERATIONS REACHED LIMIT.\n",
      "\n",
      "Increase the number of iterations (max_iter) or scale the data as shown in:\n",
      "    https://urldefense.proofpoint.com/v2/url?u=https-3A__scikit-2Dlearn.org_stable_modules_preprocessing.html-255Cn&d=DwIG-g&c=-35OiAkTchMrZOngvJPOeA&r=ecTSPHS-EbKJ4Wepl_myrw&m=kpkLCKNGiBqeufHjLqwVnRHEv2iN2LqSmvSbuJyKuSATEEQEUakSadQCc3IOTjBZ&s=7zwwOU88b_TfXdP5upkITmiaN-G2jH4eOocfwxh83x8&e= ",
      "Please also refer to the documentation for alternative solver options:\n",
      "    https://urldefense.proofpoint.com/v2/url?u=https-3A__scikit-2Dlearn.org_stable_modules_linear-5Fmodel.html-23logistic-2Dregression-255Cn&d=DwIG-g&c=-35OiAkTchMrZOngvJPOeA&r=ecTSPHS-EbKJ4Wepl_myrw&m=kpkLCKNGiBqeufHjLqwVnRHEv2iN2LqSmvSbuJyKuSATEEQEUakSadQCc3IOTjBZ&s=dCDqjx_FuB8QYadhnaT71GDCaR_UMhbLOwUdBpp-Y2I&e= ",
      "  n_iter_i = _check_optimize_result(\n"
     ]
    },
    {
     "data": {
      "text/plain": [
       "41.08"
      ]
     },
     "execution_count": 8,
     "metadata": {},
     "output_type": "execute_result"
    }
   ],
   "source": [
    "logreg = LogisticRegression()\n",
    "logreg.fit(X_train, y_train)\n",
    "Y_pred = logreg.predict(X_test)\n",
    "\n",
    "acc_log = round(logreg.score(X_train, y_train) * 100, 2)\n",
    "acc_log"
   ]
  },
  {
   "cell_type": "code",
   "execution_count": 9,
   "id": "efc72460",
   "metadata": {},
   "outputs": [
    {
     "name": "stderr",
     "output_type": "stream",
     "text": [
      "/opt/conda/lib/python3.9/site-packages/sklearn/linear_model/_logistic.py:763: ConvergenceWarning: lbfgs failed to converge (status=1):\n",
      "STOP: TOTAL NO. of ITERATIONS REACHED LIMIT.\n",
      "\n",
      "Increase the number of iterations (max_iter) or scale the data as shown in:\n",
      "    https://urldefense.proofpoint.com/v2/url?u=https-3A__scikit-2Dlearn.org_stable_modules_preprocessing.html-255Cn&d=DwIG-g&c=-35OiAkTchMrZOngvJPOeA&r=ecTSPHS-EbKJ4Wepl_myrw&m=kpkLCKNGiBqeufHjLqwVnRHEv2iN2LqSmvSbuJyKuSATEEQEUakSadQCc3IOTjBZ&s=7zwwOU88b_TfXdP5upkITmiaN-G2jH4eOocfwxh83x8&e= ",
      "Please also refer to the documentation for alternative solver options:\n",
      "    https://urldefense.proofpoint.com/v2/url?u=https-3A__scikit-2Dlearn.org_stable_modules_linear-5Fmodel.html-23logistic-2Dregression-255Cn&d=DwIG-g&c=-35OiAkTchMrZOngvJPOeA&r=ecTSPHS-EbKJ4Wepl_myrw&m=kpkLCKNGiBqeufHjLqwVnRHEv2iN2LqSmvSbuJyKuSATEEQEUakSadQCc3IOTjBZ&s=dCDqjx_FuB8QYadhnaT71GDCaR_UMhbLOwUdBpp-Y2I&e= ",
      "  n_iter_i = _check_optimize_result(\n",
      "/opt/conda/lib/python3.9/site-packages/sklearn/linear_model/_logistic.py:763: ConvergenceWarning: lbfgs failed to converge (status=1):\n",
      "STOP: TOTAL NO. of ITERATIONS REACHED LIMIT.\n",
      "\n",
      "Increase the number of iterations (max_iter) or scale the data as shown in:\n",
      "    https://urldefense.proofpoint.com/v2/url?u=https-3A__scikit-2Dlearn.org_stable_modules_preprocessing.html-255Cn&d=DwIG-g&c=-35OiAkTchMrZOngvJPOeA&r=ecTSPHS-EbKJ4Wepl_myrw&m=kpkLCKNGiBqeufHjLqwVnRHEv2iN2LqSmvSbuJyKuSATEEQEUakSadQCc3IOTjBZ&s=7zwwOU88b_TfXdP5upkITmiaN-G2jH4eOocfwxh83x8&e= ",
      "Please also refer to the documentation for alternative solver options:\n",
      "    https://urldefense.proofpoint.com/v2/url?u=https-3A__scikit-2Dlearn.org_stable_modules_linear-5Fmodel.html-23logistic-2Dregression-255Cn&d=DwIG-g&c=-35OiAkTchMrZOngvJPOeA&r=ecTSPHS-EbKJ4Wepl_myrw&m=kpkLCKNGiBqeufHjLqwVnRHEv2iN2LqSmvSbuJyKuSATEEQEUakSadQCc3IOTjBZ&s=dCDqjx_FuB8QYadhnaT71GDCaR_UMhbLOwUdBpp-Y2I&e= ",
      "  n_iter_i = _check_optimize_result(\n",
      "/opt/conda/lib/python3.9/site-packages/sklearn/linear_model/_logistic.py:763: ConvergenceWarning: lbfgs failed to converge (status=1):\n",
      "STOP: TOTAL NO. of ITERATIONS REACHED LIMIT.\n",
      "\n",
      "Increase the number of iterations (max_iter) or scale the data as shown in:\n",
      "    https://urldefense.proofpoint.com/v2/url?u=https-3A__scikit-2Dlearn.org_stable_modules_preprocessing.html-255Cn&d=DwIG-g&c=-35OiAkTchMrZOngvJPOeA&r=ecTSPHS-EbKJ4Wepl_myrw&m=kpkLCKNGiBqeufHjLqwVnRHEv2iN2LqSmvSbuJyKuSATEEQEUakSadQCc3IOTjBZ&s=7zwwOU88b_TfXdP5upkITmiaN-G2jH4eOocfwxh83x8&e= ",
      "Please also refer to the documentation for alternative solver options:\n",
      "    https://urldefense.proofpoint.com/v2/url?u=https-3A__scikit-2Dlearn.org_stable_modules_linear-5Fmodel.html-23logistic-2Dregression-255Cn&d=DwIG-g&c=-35OiAkTchMrZOngvJPOeA&r=ecTSPHS-EbKJ4Wepl_myrw&m=kpkLCKNGiBqeufHjLqwVnRHEv2iN2LqSmvSbuJyKuSATEEQEUakSadQCc3IOTjBZ&s=dCDqjx_FuB8QYadhnaT71GDCaR_UMhbLOwUdBpp-Y2I&e= ",
      "  n_iter_i = _check_optimize_result(\n"
     ]
    },
    {
     "data": {
      "image/png": "[encoded data removed]",
      "text/plain": [
       "<Figure size 720x720 with 2 Axes>"
      ]
     },
     "metadata": {
      "needs_background": "light"
     },
     "output_type": "display_data"
    }
   ],
   "source": [
    "predictions = cross_val_predict(logreg, X_train, y_train, cv=3)\n",
    "conf_mat = confusion_matrix(y_train, predictions)\n",
    "fig, ax = plt.subplots(figsize=(10,10))\n",
    "sns.heatmap(conf_mat, annot=True, fmt='d',\n",
    "            xticklabels=['Neutral', 'Left', 'Right'],yticklabels=['Neutral', 'Left', 'Right'])\n",
    "plt.ylabel('Actual')\n",
    "plt.xlabel('Predicted')\n",
    "plt.show()"
   ]
  },
  {
   "cell_type": "code",
   "execution_count": 10,
   "id": "bdadfdc2",
   "metadata": {},
   "outputs": [
    {
     "name": "stdout",
     "output_type": "stream",
     "text": [
      "Precision: 0.3986545138888889\n",
      "Recall: 0.3986545138888889\n"
     ]
    }
   ],
   "source": [
    "print(\"Precision:\", precision_score(y_train, predictions, average='micro'))\n",
    "print(\"Recall:\",recall_score(y_train, predictions, average='micro'))"
   ]
  },
  {
   "cell_type": "markdown",
   "id": "0b02cb56",
   "metadata": {},
   "source": [
    "# KNN"
   ]
  },
  {
   "cell_type": "code",
   "execution_count": 11,
   "id": "8005ec04",
   "metadata": {},
   "outputs": [
    {
     "data": {
      "text/plain": [
       "92.37"
      ]
     },
     "execution_count": 11,
     "metadata": {},
     "output_type": "execute_result"
    }
   ],
   "source": [
    "knn = KNeighborsClassifier(n_neighbors = 3) \n",
    "knn.fit(X_train, y_train)  \n",
    "Y_pred = knn.predict(X_test) \n",
    "\n",
    "acc_knn = round(knn.score(X_train, y_train) * 100, 2)\n",
    "acc_knn"
   ]
  },
  {
   "cell_type": "code",
   "execution_count": 12,
   "id": "807a93bc",
   "metadata": {},
   "outputs": [
    {
     "data": {
      "image/png": "[encoded data removed]",
      "text/plain": [
       "<Figure size 720x720 with 2 Axes>"
      ]
     },
     "metadata": {
      "needs_background": "light"
     },
     "output_type": "display_data"
    }
   ],
   "source": [
    "predictions = cross_val_predict(knn, X_train, y_train, cv=3)\n",
    "conf_mat = confusion_matrix(y_train, predictions)\n",
    "fig, ax = plt.subplots(figsize=(10,10))\n",
    "sns.heatmap(conf_mat, annot=True, fmt='d',\n",
    "            xticklabels=['Neutral', 'Left', 'Right'],yticklabels=['Neutral', 'Left', 'Right'])\n",
    "plt.ylabel('Actual')\n",
    "plt.xlabel('Predicted')\n",
    "plt.show()"
   ]
  },
  {
   "cell_type": "code",
   "execution_count": 13,
   "id": "5bc30819",
   "metadata": {},
   "outputs": [
    {
     "name": "stdout",
     "output_type": "stream",
     "text": [
      "Precision: 0.7353515625\n",
      "Recall: 0.7353515625\n"
     ]
    }
   ],
   "source": [
    "print(\"Precision:\", precision_score(y_train, predictions, average='micro'))\n",
    "print(\"Recall:\",recall_score(y_train, predictions, average='micro'))"
   ]
  },
  {
   "cell_type": "markdown",
   "id": "191d4844",
   "metadata": {},
   "source": [
    "# Naive Bayes"
   ]
  },
  {
   "cell_type": "code",
   "execution_count": 14,
   "id": "41556111",
   "metadata": {},
   "outputs": [
    {
     "data": {
      "text/plain": [
       "36.78"
      ]
     },
     "execution_count": 14,
     "metadata": {},
     "output_type": "execute_result"
    }
   ],
   "source": [
    "gaussian = GaussianNB() \n",
    "gaussian.fit(X_train, y_train)  \n",
    "Y_pred = gaussian.predict(X_test)  \n",
    "\n",
    "acc_gaussian = round(gaussian.score(X_train, y_train) * 100, 2)\n",
    "acc_gaussian"
   ]
  },
  {
   "cell_type": "code",
   "execution_count": 15,
   "id": "87237140",
   "metadata": {},
   "outputs": [
    {
     "data": {
      "image/png": "[encoded data removed]",
      "text/plain": [
       "<Figure size 720x720 with 2 Axes>"
      ]
     },
     "metadata": {
      "needs_background": "light"
     },
     "output_type": "display_data"
    }
   ],
   "source": [
    "predictions = cross_val_predict(gaussian, X_train, y_train, cv=3)\n",
    "conf_mat = confusion_matrix(y_train, predictions)\n",
    "fig, ax = plt.subplots(figsize=(10,10))\n",
    "sns.heatmap(conf_mat, annot=True, fmt='d',\n",
    "            xticklabels=['Neutral', 'Left', 'Right'],yticklabels=['Neutral', 'Left', 'Right'])\n",
    "plt.ylabel('Actual')\n",
    "plt.xlabel('Predicted')\n",
    "plt.show()"
   ]
  },
  {
   "cell_type": "code",
   "execution_count": 16,
   "id": "74eeb84a",
   "metadata": {},
   "outputs": [
    {
     "name": "stdout",
     "output_type": "stream",
     "text": [
      "Precision: 0.3687065972222222\n",
      "Recall: 0.3687065972222222\n"
     ]
    }
   ],
   "source": [
    "print(\"Precision:\", precision_score(y_train, predictions, average='micro'))\n",
    "print(\"Recall:\",recall_score(y_train, predictions, average='micro'))"
   ]
  },
  {
   "cell_type": "markdown",
   "id": "5275dd1c",
   "metadata": {},
   "source": [
    "# Decision Tree"
   ]
  },
  {
   "cell_type": "code",
   "execution_count": 17,
   "id": "012d0951",
   "metadata": {},
   "outputs": [
    {
     "data": {
      "text/plain": [
       "100.0"
      ]
     },
     "execution_count": 17,
     "metadata": {},
     "output_type": "execute_result"
    }
   ],
   "source": [
    "decision_tree = DecisionTreeClassifier() \n",
    "decision_tree.fit(X_train, y_train)  \n",
    "Y_pred = decision_tree.predict(X_test) \n",
    "\n",
    "acc_decision_tree = round(decision_tree.score(X_train, y_train) * 100, 2)\n",
    "acc_decision_tree"
   ]
  },
  {
   "cell_type": "code",
   "execution_count": 18,
   "id": "5ec9163b",
   "metadata": {},
   "outputs": [
    {
     "data": {
      "image/png": "[encoded data removed]",
      "text/plain": [
       "<Figure size 720x720 with 2 Axes>"
      ]
     },
     "metadata": {
      "needs_background": "light"
     },
     "output_type": "display_data"
    }
   ],
   "source": [
    "predictions = cross_val_predict(decision_tree, X_train, y_train, cv=3)\n",
    "conf_mat = confusion_matrix(y_train, predictions)\n",
    "fig, ax = plt.subplots(figsize=(10,10))\n",
    "sns.heatmap(conf_mat, annot=True, fmt='d',\n",
    "            xticklabels=['Neutral', 'Left', 'Right'],yticklabels=['Neutral', 'Left', 'Right'])\n",
    "plt.ylabel('Actual')\n",
    "plt.xlabel('Predicted')\n",
    "plt.show()"
   ]
  },
  {
   "cell_type": "code",
   "execution_count": 19,
   "id": "fb2eb025",
   "metadata": {},
   "outputs": [
    {
     "name": "stdout",
     "output_type": "stream",
     "text": [
      "Precision: 0.5591362847222222\n",
      "Recall: 0.5591362847222222\n"
     ]
    }
   ],
   "source": [
    "print(\"Precision:\", precision_score(y_train, predictions, average='micro'))\n",
    "print(\"Recall:\",recall_score(y_train, predictions, average='micro'))"
   ]
  },
  {
   "cell_type": "code",
   "execution_count": 20,
   "id": "420eaf57",
   "metadata": {},
   "outputs": [
    {
     "data": {
      "text/html": [
       "<div>\n",
       "<style scoped>\n",
       "    .dataframe tbody tr th:only-of-type {\n",
       "        vertical-align: middle;\n",
       "    }\n",
       "\n",
       "    .dataframe tbody tr th {\n",
       "        vertical-align: top;\n",
       "    }\n",
       "\n",
       "    .dataframe thead th {\n",
       "        text-align: right;\n",
       "    }\n",
       "</style>\n",
       "<table border=\"1\" class=\"dataframe\">\n",
       "  <thead>\n",
       "    <tr style=\"text-align: right;\">\n",
       "      <th></th>\n",
       "      <th>Model</th>\n",
       "    </tr>\n",
       "    <tr>\n",
       "      <th>Score</th>\n",
       "      <th></th>\n",
       "    </tr>\n",
       "  </thead>\n",
       "  <tbody>\n",
       "    <tr>\n",
       "      <th>100.00</th>\n",
       "      <td>Random Forest</td>\n",
       "    </tr>\n",
       "    <tr>\n",
       "      <th>100.00</th>\n",
       "      <td>Decision Tree</td>\n",
       "    </tr>\n",
       "    <tr>\n",
       "      <th>92.37</th>\n",
       "      <td>KNN</td>\n",
       "    </tr>\n",
       "    <tr>\n",
       "      <th>41.08</th>\n",
       "      <td>Logistic Regression</td>\n",
       "    </tr>\n",
       "    <tr>\n",
       "      <th>36.78</th>\n",
       "      <td>Naive Bayes</td>\n",
       "    </tr>\n",
       "  </tbody>\n",
       "</table>\n",
       "</div>"
      ],
      "text/plain": [
       "                      Model\n",
       "Score                      \n",
       "100.00        Random Forest\n",
       "100.00        Decision Tree\n",
       "92.37                   KNN\n",
       "41.08   Logistic Regression\n",
       "36.78           Naive Bayes"
      ]
     },
     "execution_count": 20,
     "metadata": {},
     "output_type": "execute_result"
    }
   ],
   "source": [
    "results = pd.DataFrame({\n",
    "    'Model': ['KNN', 'Logistic Regression', 'Random Forest', 'Naive Bayes','Decision Tree'],\n",
    "    'Score': [acc_knn, acc_log, acc_random_forest, acc_gaussian, acc_decision_tree]})\n",
    "result_df = results.sort_values(by='Score', ascending=False)\n",
    "result_df = result_df.set_index('Score')\n",
    "result_df.head(9)"
   ]
  }
 ],
 "metadata": {
  "kernelspec": {
   "display_name": "Python 3 (clean)",
   "language": "python",
   "name": "python3_clean"
  },
  "language_info": {
   "codemirror_mode": {
    "name": "ipython",
    "version": 3
   },
   "file_extension": ".py",
   "mimetype": "text/x-python",
   "name": "python",
   "nbconvert_exporter": "python",
   "pygments_lexer": "ipython3",
   "version": "3.9.5"
  }
 },
 "nbformat": 4,
 "nbformat_minor": 5
}
